{
  "nbformat": 4,
  "nbformat_minor": 0,
  "metadata": {
    "colab": {
      "provenance": []
    },
    "kernelspec": {
      "name": "python3",
      "display_name": "Python 3"
    },
    "language_info": {
      "name": "python"
    }
  },
  "cells": [
    {
      "cell_type": "markdown",
      "source": [
        "В цьому домашньому завданні відпрацюємо з вами знання, отримані в модулі зі статистики.\n",
        "\n",
        "**Завдання 1.** Ми обговорили з Вами на лекції, що велика літера Сігма грецького алфавіту позначає в математиці суму. Знайдіть з використанням Python $\\Sigma x$, $\\Sigma x^2$, та $\\Sigma (x-1)^2$ для наступного набору даних:\n",
        "`1 3 4`\n",
        "Виведіть результат кожного обчислення на екран."
      ],
      "metadata": {
        "id": "SDhaTqxcWhnP"
      }
    },
    {
      "cell_type": "markdown",
      "source": [
        "1. $\\Sigma x$"
      ],
      "metadata": {
        "id": "tuvnNjOJMLza"
      }
    },
    {
      "cell_type": "code",
      "source": [
        "data = [1, 3, 4]\n",
        "total_sum = sum(data)\n",
        "\n",
        "print(total_sum)"
      ],
      "metadata": {
        "id": "aqGvLdF4MK5y",
        "colab": {
          "base_uri": "https://localhost:8080/"
        },
        "outputId": "7352bb6c-4bbb-4a3f-fa44-09c1b73a06f4"
      },
      "execution_count": 52,
      "outputs": [
        {
          "output_type": "stream",
          "name": "stdout",
          "text": [
            "8\n"
          ]
        }
      ]
    },
    {
      "cell_type": "markdown",
      "source": [
        "2. $\\Sigma x^2$"
      ],
      "metadata": {
        "id": "7tZUCv-aMRXx"
      }
    },
    {
      "cell_type": "code",
      "source": [
        "print(sum(x**2 for x in data))"
      ],
      "metadata": {
        "id": "RUb6JhwqMAKC",
        "colab": {
          "base_uri": "https://localhost:8080/"
        },
        "outputId": "63d200d2-9188-447e-a243-3c1a7ff7b28c"
      },
      "execution_count": 53,
      "outputs": [
        {
          "output_type": "stream",
          "name": "stdout",
          "text": [
            "26\n"
          ]
        }
      ]
    },
    {
      "cell_type": "markdown",
      "source": [
        "3. $\\Sigma (x-1)^2$"
      ],
      "metadata": {
        "id": "4K1KHHjrMULZ"
      }
    },
    {
      "cell_type": "code",
      "source": [
        "print(sum((x-1)**2 for x in data))"
      ],
      "metadata": {
        "id": "lyR2oE7lMAlB",
        "colab": {
          "base_uri": "https://localhost:8080/"
        },
        "outputId": "8cbea0dd-8921-45ce-a7c4-dface0346a12"
      },
      "execution_count": 54,
      "outputs": [
        {
          "output_type": "stream",
          "name": "stdout",
          "text": [
            "13\n"
          ]
        }
      ]
    },
    {
      "cell_type": "markdown",
      "source": [
        "**Завдання 2.** Ми зібрали дані про суму покупок в гривнях 20ма випадково обраними клієнтами в нашому магазині (всього клієнтів у нас більше) за минулий місяць. Вони представлені в змінній `sum_purchases`. Знайдіть **вибіркове середнє** для цих даних кожним з зазначених методів:   \n",
        "\n",
        "  2.1. без використання жодних бібліотек, користуючись тільки Python.  \n",
        "  2.2. використовуючи відповідний метод бібліотеки `numpy`.\n",
        "\n",
        "  Виведіть результат обчислень в кожному з випадків на екран та порівняйте результати. Вони співпадають?"
      ],
      "metadata": {
        "id": "fa78aW5lhiia"
      }
    },
    {
      "cell_type": "code",
      "execution_count": 55,
      "metadata": {
        "id": "_9kMt3rq6V5m"
      },
      "outputs": [],
      "source": [
        "sum_purchases = [ 316,  493,  367,  153,  224,  121,  322,  450,  196,  397,  281,\n",
        "  239,  484,  124,  223,  448,  432,  255, 4310, 3524]"
      ]
    },
    {
      "cell_type": "code",
      "source": [
        "sum_purchase_sorted = sorted(sum_purchases)"
      ],
      "metadata": {
        "id": "q_xP8ZcTES3g"
      },
      "execution_count": 56,
      "outputs": []
    },
    {
      "cell_type": "code",
      "source": [
        "len(sum_purchases)"
      ],
      "metadata": {
        "id": "wPmL919HT1c0",
        "colab": {
          "base_uri": "https://localhost:8080/"
        },
        "outputId": "39fa3d8e-6887-415a-e450-3910ece5a21c"
      },
      "execution_count": 57,
      "outputs": [
        {
          "output_type": "execute_result",
          "data": {
            "text/plain": [
              "20"
            ]
          },
          "metadata": {},
          "execution_count": 57
        }
      ]
    },
    {
      "cell_type": "code",
      "source": [
        "# 2.1.\n",
        "\n",
        "mean_purchases = sum(sum_purchases)/len(sum_purchases)\n",
        "print(mean_purchases)\n"
      ],
      "metadata": {
        "colab": {
          "base_uri": "https://localhost:8080/"
        },
        "id": "jaUc7OqmWKix",
        "outputId": "5b637037-2ee1-4e55-b34e-f43540cc6673"
      },
      "execution_count": 58,
      "outputs": [
        {
          "output_type": "stream",
          "name": "stdout",
          "text": [
            "667.95\n"
          ]
        }
      ]
    },
    {
      "cell_type": "code",
      "source": [
        "# 2.2.\n",
        "\n",
        "import numpy as np\n",
        "sum_purchases_2 = np.array(sum_purchases)\n",
        "\n",
        "mean_2 = np.sum(sum_purchases_2) / len(sum_purchases)\n",
        "print(mean_2)"
      ],
      "metadata": {
        "colab": {
          "base_uri": "https://localhost:8080/"
        },
        "id": "3TlsdMcSZV3a",
        "outputId": "c22f361b-a623-4405-ef53-6be918c839ef"
      },
      "execution_count": 59,
      "outputs": [
        {
          "output_type": "stream",
          "name": "stdout",
          "text": [
            "667.95\n"
          ]
        }
      ]
    },
    {
      "cell_type": "markdown",
      "source": [
        "**Завдання 3.** Для того ж набору даних в змінній `sum_purchases` обчисліть **медіану** кожним з зазначених методів:  \n",
        "\n",
        "  3.1. без використання жодних бібліотек, користуючись тільки Python.  \n",
        "  3.2. використовуючи відповідний метод бібліотеки numpy.  \n",
        "\n",
        "Виведіть результат обчислень в кожному з випадків на екран. Порівняйте результати зі значенням вибіркового середнього. Напишіть коментар, для яких задач ви б використовували вибіркове середнє, а для яких - медіану?"
      ],
      "metadata": {
        "id": "FMdoxZd0kZdW"
      }
    },
    {
      "cell_type": "code",
      "source": [
        "# 3.1.\n",
        "\n",
        "# визначивши, що len(sum_purchases) має парну кількість знаків, то для розрахунку визначаємо порядкові номери 2х знаків посередині:\n",
        "N1 = ((len(sorted(sum_purchases)))//2)-1\n",
        "N2 = ((len(sorted(sum_purchases)))//2)\n",
        "\n",
        "# визначаємо значення у списку для N1 та N2\n",
        "N1_1 = sorted(sum_purchases)[N1]\n",
        "N2_1 = sorted(sum_purchases)[N2]\n",
        "\n",
        "# визначаємо медіану\n",
        "\n",
        "median = (N1_1 + N2_1)/2\n",
        "print(median)\n"
      ],
      "metadata": {
        "id": "x58BumvuT2nl",
        "colab": {
          "base_uri": "https://localhost:8080/"
        },
        "outputId": "967371c5-6d9c-4b5d-8efe-2e720c7a7541"
      },
      "execution_count": 60,
      "outputs": [
        {
          "output_type": "stream",
          "name": "stdout",
          "text": [
            "319.0\n"
          ]
        }
      ]
    },
    {
      "cell_type": "code",
      "source": [
        "# 3.2.\n",
        "\n",
        "np.median(sum_purchases)"
      ],
      "metadata": {
        "colab": {
          "base_uri": "https://localhost:8080/"
        },
        "id": "eLdK7kn6jBbp",
        "outputId": "ba015246-ab92-4fcb-afec-000db2d906ce"
      },
      "execution_count": 61,
      "outputs": [
        {
          "output_type": "execute_result",
          "data": {
            "text/plain": [
              "319.0"
            ]
          },
          "metadata": {},
          "execution_count": 61
        }
      ]
    },
    {
      "cell_type": "code",
      "source": [
        "# 3.3.\n",
        "median - mean_purchases\n"
      ],
      "metadata": {
        "colab": {
          "base_uri": "https://localhost:8080/"
        },
        "id": "HLUVjHOQlERC",
        "outputId": "c44b211b-619f-48ed-e936-b2afb6a0c034"
      },
      "execution_count": 62,
      "outputs": [
        {
          "output_type": "execute_result",
          "data": {
            "text/plain": [
              "-348.95000000000005"
            ]
          },
          "metadata": {},
          "execution_count": 62
        }
      ]
    },
    {
      "cell_type": "markdown",
      "source": [
        "3.3. Як ми можемо бачити вибіркове середнє від медіани відрізняється майже в 2 рази, тому можемо зробити висновок, що скоріш за все у вибірці є викиди. Список 20 знаків тому можемо зробити візуальний аналіз, де бачимо дійсно викиди. Медіану краще використовувати у вибірці, у якій є викиди. Якщо вибірка не містить викидів то - вибіркове середнє. Коли дані у вибірці більш рівномірні - то медіана та вибіркове середнє будуть наближені"
      ],
      "metadata": {
        "id": "SYLOP1imfC-A"
      }
    },
    {
      "cell_type": "markdown",
      "source": [
        "**Завдання 4**. Обчислість стандартне відхилення наведеної вибірки в змінній `sum_purchases` кожним з зазначених методів:  \n",
        "\n",
        "  4.1. без використання жодних бібліотек, користуючись тільки Python.  \n",
        "  4.2. використовуючи відповідний метод бібліотеки numpy.  \n",
        "\n",
        "Виведіть результат обчислень в кожному з випадків на екран."
      ],
      "metadata": {
        "id": "o1Z7az2yNDQV"
      }
    },
    {
      "cell_type": "code",
      "source": [
        "# 4.1.\n",
        "\n",
        "import math\n",
        "\n",
        "ST_vidhil_purchase = math.sqrt(sum([((el - mean_purchases)**2) for el in sum_purchase_sorted])/len(sum_purchases)) # квадратні дужки для формування списку, math.sqrt корінь з числа\n",
        "\n",
        "print(ST_vidhil_purchase)"
      ],
      "metadata": {
        "id": "X4ixtmL2T642",
        "colab": {
          "base_uri": "https://localhost:8080/"
        },
        "outputId": "48e8025d-54bd-4fd8-b459-1eee5837f099"
      },
      "execution_count": 63,
      "outputs": [
        {
          "output_type": "stream",
          "name": "stdout",
          "text": [
            "1096.0692713054227\n"
          ]
        }
      ]
    },
    {
      "cell_type": "code",
      "source": [
        "# 4.2.\n",
        "\n",
        "np.std(sum_purchases)"
      ],
      "metadata": {
        "colab": {
          "base_uri": "https://localhost:8080/"
        },
        "id": "VtmQzLSLmi9h",
        "outputId": "e83df8b1-ceaf-4404-e6b1-b641dbba4060"
      },
      "execution_count": 64,
      "outputs": [
        {
          "output_type": "execute_result",
          "data": {
            "text/plain": [
              "1096.0692713054227"
            ]
          },
          "metadata": {},
          "execution_count": 64
        }
      ]
    },
    {
      "cell_type": "markdown",
      "source": [
        "**Завдання 5**. Ми провели дослідження віку студентів-першокурсників. Виявилось, що\n",
        "- 10 студентів мають вік 16 років\n",
        "- 25 студентів - 17 років\n",
        "- 20 студентів - 18 років\n",
        "- 2 студенти - 20 років\n",
        "\n",
        "Обчислість середнє значення для цієї вибірки будь-яким способом - на чистому Python або з numpy - та виведіть результат на екран."
      ],
      "metadata": {
        "id": "M1ntKTjXLVlH"
      }
    },
    {
      "cell_type": "code",
      "source": [
        "# Спосіб_1\n",
        "age = [16, 17, 18, 20]\n",
        "n = [10, 25, 20, 2]\n",
        "result = [a * b for a, b in zip(age, n)]\n",
        "mean_age_1 = sum(result) / sum(n)\n",
        "print(mean_age_1)"
      ],
      "metadata": {
        "id": "RdIU4M-7T8R4",
        "colab": {
          "base_uri": "https://localhost:8080/"
        },
        "outputId": "baa97052-7c24-4962-9408-a472ee641663"
      },
      "execution_count": 65,
      "outputs": [
        {
          "output_type": "stream",
          "name": "stdout",
          "text": [
            "17.280701754385966\n"
          ]
        }
      ]
    },
    {
      "cell_type": "code",
      "source": [
        "# Спосіб_2\n",
        "import numpy as np\n",
        "age_2 = np.array([16, 17, 18, 20])\n",
        "n_2 = np.array([10, 25, 20, 2])\n",
        "# Перемноження елементів поелементно\n",
        "result_2 = age_2 * n_2\n",
        "# Обчислення середнього значення\n",
        "mean_age_2 = np.sum(result_2) / np.sum(n_2)\n",
        "print(mean_age_2)\n"
      ],
      "metadata": {
        "colab": {
          "base_uri": "https://localhost:8080/"
        },
        "id": "vn4Jdty_RV1J",
        "outputId": "9eb6066d-a633-4329-8249-9106c44ad8c8"
      },
      "execution_count": 66,
      "outputs": [
        {
          "output_type": "stream",
          "name": "stdout",
          "text": [
            "17.280701754385966\n"
          ]
        }
      ]
    },
    {
      "cell_type": "markdown",
      "source": [
        "**Завдання 6**. Крім даних про суму покупок, ми зібрали ще дані про кількість відвідувань кожного з кожного покупця, які знаходяться в змінній `visits`. Обчисліть коефіцієнт кореляції Пірсона для суми покупок і кількості відвідувань кожним з зазначених методів:  \n",
        "\n",
        "  6.1. без використання жодних бібліотек, користуючись тільки Python.  \n",
        "  6.2. використовуючи відповідний метод бібліотеки numpy.  \n",
        "  \n",
        "Виведіть результат на екран. Проаналізуйте результат.\n",
        "\n",
        "Виведіть додатково графік розсіювання викликавши код нижче і зробіть заключення, чи варто щось змінити при підрахунку кореляції, аби коефіцієнт Пірсона показував коректну оцінку лінійної залежності?"
      ],
      "metadata": {
        "id": "Xx8MFkkVM53z"
      }
    },
    {
      "cell_type": "markdown",
      "source": [
        "**Теорія:**"
      ],
      "metadata": {
        "id": "HhjxkbR0I4zx"
      }
    },
    {
      "cell_type": "markdown",
      "source": [
        "![image.png](data:image/png;base64,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)"
      ],
      "metadata": {
        "id": "HqK1vvBEFifw"
      }
    },
    {
      "cell_type": "code",
      "source": [
        "visits = [ 6,  2, 10,  3,  9,  9,  2,  3,  6,  6, 10,  2,  5, 10,  3,  5,  4,\n",
        "        7,  4,  2]"
      ],
      "metadata": {
        "id": "4OIGBT7UOWhO"
      },
      "execution_count": 67,
      "outputs": []
    },
    {
      "cell_type": "code",
      "source": [
        "visits_sorted = sorted(visits)"
      ],
      "metadata": {
        "id": "YLNF7VbeT97Q"
      },
      "execution_count": 68,
      "outputs": []
    },
    {
      "cell_type": "code",
      "source": [
        "# 6.1.\n",
        "\n",
        "# розрахуємо середнє вибіркове для visits\n",
        "mean_visits = sum(visits)/len(visits)\n",
        "\n",
        "# розрахуємо стандартне відхилення для visits\n",
        "ST_vidhil_visits = math.sqrt(sum([((elem - mean_visits)**2) for elem in visits_sorted])/len(visits_sorted)) # квадратні дужки для формування списку, math.sqrt корінь з числа\n",
        "\n",
        "#розрахуємо різницю кожного елементу у списках відносно вибіркового середнього\n",
        "visits_diff_mean = [(elem - mean_visits) for elem in visits_sorted]\n",
        "\n",
        "purchases_diff_mean = [(el - mean_purchases) for el in sum_purchase_sorted]\n",
        "# або\n",
        "diff_mean = [(elem - mean_visits, el - mean_purchases) for el, elem in zip(sum_purchase_sorted, visits_sorted)]\n",
        "print(diff_mean)\n"
      ],
      "metadata": {
        "colab": {
          "base_uri": "https://localhost:8080/"
        },
        "id": "GzjltGxOFKHn",
        "outputId": "5ac5159e-0b3e-43d9-8c82-48c4c7bac486"
      },
      "execution_count": 69,
      "outputs": [
        {
          "output_type": "stream",
          "name": "stdout",
          "text": [
            "[(-3.4000000000000004, -546.95), (-3.4000000000000004, -543.95), (-3.4000000000000004, -514.95), (-3.4000000000000004, -471.95000000000005), (-2.4000000000000004, -444.95000000000005), (-2.4000000000000004, -443.95000000000005), (-2.4000000000000004, -428.95000000000005), (-1.4000000000000004, -412.95000000000005), (-1.4000000000000004, -386.95000000000005), (-0.40000000000000036, -351.95000000000005), (-0.40000000000000036, -345.95000000000005), (0.5999999999999996, -300.95000000000005), (0.5999999999999996, -270.95000000000005), (0.5999999999999996, -235.95000000000005), (1.5999999999999996, -219.95000000000005), (3.5999999999999996, -217.95000000000005), (3.5999999999999996, -183.95000000000005), (4.6, -174.95000000000005), (4.6, 2856.05), (4.6, 3642.05)]\n"
          ]
        }
      ]
    },
    {
      "cell_type": "code",
      "source": [
        "# розрахуємо стандартне відхилення для visits\n",
        "np.std(visits)"
      ],
      "metadata": {
        "colab": {
          "base_uri": "https://localhost:8080/"
        },
        "id": "5ZwMhq6Hblt1",
        "outputId": "cbd14000-6324-4126-f8da-0e9ddbc2c26a"
      },
      "execution_count": 70,
      "outputs": [
        {
          "output_type": "execute_result",
          "data": {
            "text/plain": [
              "2.8354893757515653"
            ]
          },
          "metadata": {},
          "execution_count": 70
        }
      ]
    },
    {
      "cell_type": "code",
      "source": [
        "# розрахуємо стандартне відхилення для visits\n",
        "math.sqrt(sum([((elem - mean_visits)**2) for elem in visits_sorted])/len(visits_sorted))"
      ],
      "metadata": {
        "colab": {
          "base_uri": "https://localhost:8080/"
        },
        "id": "gn-Zmj6NcT7Z",
        "outputId": "4887cd4b-be1d-4c97-a1f9-1cdadaddf11d"
      },
      "execution_count": 71,
      "outputs": [
        {
          "output_type": "execute_result",
          "data": {
            "text/plain": [
              "2.8354893757515653"
            ]
          },
          "metadata": {},
          "execution_count": 71
        }
      ]
    },
    {
      "cell_type": "code",
      "source": [
        "cov = sum([(elem - mean_visits)*(el - mean_purchases) for el, elem in zip(sum_purchases, visits)])/(len(sum_purchases)-1)\n",
        "print(cov)"
      ],
      "metadata": {
        "colab": {
          "base_uri": "https://localhost:8080/"
        },
        "id": "hHILQeXDWe7E",
        "outputId": "d5047700-3aad-4901-a11a-bc69fbd46f58"
      },
      "execution_count": 72,
      "outputs": [
        {
          "output_type": "stream",
          "name": "stdout",
          "text": [
            "-990.1368421052633\n"
          ]
        }
      ]
    },
    {
      "cell_type": "code",
      "source": [
        "# приведемо ручний розрахунок до даних аналогічно np\n",
        "\n",
        "manual_cov_matrix = [\n",
        "    [np.var(sum_purchases, ddof=1), cov],\n",
        "    [cov, np.var(visits, ddof=1)]\n",
        "]\n",
        "print(manual_cov_matrix)"
      ],
      "metadata": {
        "colab": {
          "base_uri": "https://localhost:8080/"
        },
        "id": "-ReEGGPAZz0N",
        "outputId": "4bcd9f3a-29a9-44d6-d713-f7e6e5d5963d"
      },
      "execution_count": 73,
      "outputs": [
        {
          "output_type": "stream",
          "name": "stdout",
          "text": [
            "[[1264597.7342105266, -990.1368421052633], [-990.1368421052633, 8.463157894736844]]\n"
          ]
        }
      ]
    },
    {
      "cell_type": "code",
      "source": [
        "# розрахуємо Коваріацію для двох Не відсортованих списків\n",
        "np.cov(sum_purchases, visits)"
      ],
      "metadata": {
        "colab": {
          "base_uri": "https://localhost:8080/"
        },
        "id": "4mF9I8BbKS5i",
        "outputId": "6fa21b15-5eb7-4bff-87f5-a4c191401c02"
      },
      "execution_count": 74,
      "outputs": [
        {
          "output_type": "execute_result",
          "data": {
            "text/plain": [
              "array([[ 1.26459773e+06, -9.90136842e+02],\n",
              "       [-9.90136842e+02,  8.46315789e+00]])"
            ]
          },
          "metadata": {},
          "execution_count": 74
        }
      ]
    },
    {
      "cell_type": "code",
      "source": [
        "# розрахуємо кореляцію\n",
        "\n",
        "corr = cov/(ST_vidhil_purchase*ST_vidhil_visits)\n",
        "print(corr)"
      ],
      "metadata": {
        "colab": {
          "base_uri": "https://localhost:8080/"
        },
        "id": "3ohwVSayaKD2",
        "outputId": "419f51b0-c511-47f9-ccfa-9f2dbb4881b4"
      },
      "execution_count": 76,
      "outputs": [
        {
          "output_type": "stream",
          "name": "stdout",
          "text": [
            "-0.31858783881754155\n"
          ]
        }
      ]
    },
    {
      "cell_type": "code",
      "source": [
        "print(ST_vidhil_purchase, ST_vidhil_visits, np.std(sum_purchases), np.std(visits))"
      ],
      "metadata": {
        "colab": {
          "base_uri": "https://localhost:8080/"
        },
        "id": "E6SskkWid_-G",
        "outputId": "718359f8-c788-406d-8cd1-056a6df11847"
      },
      "execution_count": 77,
      "outputs": [
        {
          "output_type": "stream",
          "name": "stdout",
          "text": [
            "1096.0692713054227 2.8354893757515653 1096.0692713054227 2.8354893757515653\n"
          ]
        }
      ]
    },
    {
      "cell_type": "code",
      "source": [
        "print(cov, np.cov(sum_purchases, visits))"
      ],
      "metadata": {
        "colab": {
          "base_uri": "https://localhost:8080/"
        },
        "id": "F6thZH3HeZ3W",
        "outputId": "8d9b0703-4c67-41c9-cf80-953d1dd9eab4"
      },
      "execution_count": 78,
      "outputs": [
        {
          "output_type": "stream",
          "name": "stdout",
          "text": [
            "-990.1368421052633 [[ 1.26459773e+06 -9.90136842e+02]\n",
            " [-9.90136842e+02  8.46315789e+00]]\n"
          ]
        }
      ]
    },
    {
      "cell_type": "code",
      "source": [
        "# 6.2.\n",
        "# розрахуємо кореляцію для двох списків\n",
        "np.corrcoef(sum_purchases, visits)"
      ],
      "metadata": {
        "colab": {
          "base_uri": "https://localhost:8080/"
        },
        "id": "KK8lDi7cFJ2X",
        "outputId": "ee0e1f4f-da1f-4db1-a649-e952ac280d27"
      },
      "execution_count": 79,
      "outputs": [
        {
          "output_type": "execute_result",
          "data": {
            "text/plain": [
              "array([[ 1.        , -0.30265845],\n",
              "       [-0.30265845,  1.        ]])"
            ]
          },
          "metadata": {},
          "execution_count": 79
        }
      ]
    },
    {
      "cell_type": "markdown",
      "source": [
        "**Висновок:** Коефіцієнт кореляції від'ємний, що говорить про те що зі збільшенням суми покупки не збільшується кількість візитів клієнтів, та сума покупки не збільшується зі збільшенням кількості відвідувань. Навіть навпаки при збільшенні одного показника інший зменшується, адже є слабкий зворотній зв'язок."
      ],
      "metadata": {
        "id": "dUmPYUl7JZrf"
      }
    },
    {
      "cell_type": "code",
      "source": [
        "import matplotlib.pyplot as plt\n",
        "\n",
        "plt.scatter(sum_purchases, visits)\n",
        "plt.title('Scatter Plot of Purchases vs. Visits')\n",
        "plt.xlabel('Sum of Purchases')\n",
        "plt.ylabel('Number of Visits');"
      ],
      "metadata": {
        "colab": {
          "base_uri": "https://localhost:8080/",
          "height": 472
        },
        "id": "gaeoGA-5Prr1",
        "outputId": "70b9ec14-2a08-40de-f2e7-d343a3e466f7"
      },
      "execution_count": 80,
      "outputs": [
        {
          "output_type": "display_data",
          "data": {
            "text/plain": [
              "<Figure size 640x480 with 1 Axes>"
            ],
            "image/png": "[encoded data removed]"
          },
          "metadata": {}
        }
      ]
    },
    {
      "cell_type": "markdown",
      "source": [
        "**Висновок до графіка:** якщо аналізувати лише графік то здається, що є слабкий звязок між показниками і наявна слабка кореляція, наче при зростанні  Number of Visits потроху зростає um of Purchases. Проте на графіку ми бачимо викиди, які викривляють розрахунок кореляції та коваріації."
      ],
      "metadata": {
        "id": "ctv_BJUHKrQQ"
      }
    },
    {
      "cell_type": "markdown",
      "source": [
        "**Завдання 7**. В попередньому завданні ми помітили, що викиди нам заважають отримати \"правдиве\" значення кореляції. Давайте вилучимо записи, які відповідають значенням з викидами в сумі покупок і обчисліть коеф. кореляції. Для цього поставте `threshold`, який дорінює середньому значенню + 2 стандартних вдіхилля суми покупок і всі значення, які більше за нього, будемо вважати викидами (є і інші правила для визначення викидів - з ним и познайомимось пізніше).\n",
        "\n",
        "Вилучіть значення з обох масивів і обчисліть коеф. кореляції Пірсона з допомогою `numpy` для кількості візитів і суми покупок без записів-викидів. Виведіть результат на екран, побудуйте діаграму розсіювання і проаналізуйте результат: що можемо сказати про залежність в даних?"
      ],
      "metadata": {
        "id": "4pEg0KzSQ6KA"
      }
    },
    {
      "cell_type": "code",
      "source": [
        "threshold = mean_purchases + 2*ST_vidhil_purchase\n",
        "print(threshold)"
      ],
      "metadata": {
        "id": "Yj3Yfaf7UBbc",
        "colab": {
          "base_uri": "https://localhost:8080/"
        },
        "outputId": "14043835-297e-48a9-d18e-999fc0cc7159"
      },
      "execution_count": 81,
      "outputs": [
        {
          "output_type": "stream",
          "name": "stdout",
          "text": [
            "2860.0885426108453\n"
          ]
        }
      ]
    },
    {
      "cell_type": "code",
      "source": [
        "# у масиві sum_purchases визачаємо значення та позиції з викидами\n",
        "\n",
        "sum_purchases_threshold = [(el - threshold) for el in sum_purchases]\n",
        "print(sum_purchases_threshold)"
      ],
      "metadata": {
        "colab": {
          "base_uri": "https://localhost:8080/"
        },
        "id": "Jre8M9fvTTJf",
        "outputId": "cb05dbb6-a3e0-494d-cea7-aeb410172c5c"
      },
      "execution_count": 82,
      "outputs": [
        {
          "output_type": "stream",
          "name": "stdout",
          "text": [
            "[-2544.0885426108453, -2367.0885426108453, -2493.0885426108453, -2707.0885426108453, -2636.0885426108453, -2739.0885426108453, -2538.0885426108453, -2410.0885426108453, -2664.0885426108453, -2463.0885426108453, -2579.0885426108453, -2621.0885426108453, -2376.0885426108453, -2736.0885426108453, -2637.0885426108453, -2412.0885426108453, -2428.0885426108453, -2605.0885426108453, 1449.9114573891547, 663.9114573891547]\n"
          ]
        }
      ]
    },
    {
      "cell_type": "code",
      "source": [
        "# пропишимо, що позитивні значення у списку sum_purchases_threshold  і є викиди\n",
        "\n",
        "posiive_indices = [index for index, value in enumerate(sum_purchases_threshold) if value > 0]\n",
        "print(posiive_indices)"
      ],
      "metadata": {
        "colab": {
          "base_uri": "https://localhost:8080/"
        },
        "id": "fY1ayxhnVHVG",
        "outputId": "689c7a85-ec9c-4f4f-b59b-548310ff6508"
      },
      "execution_count": 83,
      "outputs": [
        {
          "output_type": "stream",
          "name": "stdout",
          "text": [
            "[18, 19]\n"
          ]
        }
      ]
    },
    {
      "cell_type": "code",
      "source": [
        "# видаляємо із списків значення викидів, а саме значення з індексом 18 та 19\n",
        "\n",
        "# 1й спосіб видалення значень із списку sum_purchases\n",
        "\n",
        "del sum_purchases[19]\n",
        "del sum_purchases[18]\n",
        "\n",
        "print(sum_purchases)"
      ],
      "metadata": {
        "colab": {
          "base_uri": "https://localhost:8080/"
        },
        "id": "YMhfomJXWDSj",
        "outputId": "e7589ef7-c78d-4781-9509-61e672350ea5"
      },
      "execution_count": 84,
      "outputs": [
        {
          "output_type": "stream",
          "name": "stdout",
          "text": [
            "[316, 493, 367, 153, 224, 121, 322, 450, 196, 397, 281, 239, 484, 124, 223, 448, 432, 255]\n"
          ]
        }
      ]
    },
    {
      "cell_type": "code",
      "source": [
        "# 2й спосіб видалення значень із списку visits\n",
        "\n",
        "visits = [value for index, value in enumerate(visits) if index not in [18, 19]]\n",
        "\n",
        "print(visits)"
      ],
      "metadata": {
        "colab": {
          "base_uri": "https://localhost:8080/"
        },
        "id": "9JuPJmvDXir8",
        "outputId": "9cb6a377-ff6e-4cc9-834b-23a65336ac9f"
      },
      "execution_count": 85,
      "outputs": [
        {
          "output_type": "stream",
          "name": "stdout",
          "text": [
            "[6, 2, 10, 3, 9, 9, 2, 3, 6, 6, 10, 2, 5, 10, 3, 5, 4, 7]\n"
          ]
        }
      ]
    },
    {
      "cell_type": "code",
      "source": [
        "# розрахуємо кореляцію для двох списків без викидів\n",
        "np.corrcoef(sum_purchases, visits)"
      ],
      "metadata": {
        "colab": {
          "base_uri": "https://localhost:8080/"
        },
        "id": "m4ZimMG3YxuU",
        "outputId": "a774ddf6-14e4-4696-fe0f-c93f55269269"
      },
      "execution_count": 86,
      "outputs": [
        {
          "output_type": "execute_result",
          "data": {
            "text/plain": [
              "array([[ 1.        , -0.36852121],\n",
              "       [-0.36852121,  1.        ]])"
            ]
          },
          "metadata": {},
          "execution_count": 86
        }
      ]
    },
    {
      "cell_type": "code",
      "source": [
        "plt.scatter(sum_purchases, visits)\n",
        "plt.title('Scatter Plot of Purchases vs. Visits')\n",
        "plt.xlabel('Sum of Purchases')\n",
        "plt.ylabel('Number of Visits');"
      ],
      "metadata": {
        "colab": {
          "base_uri": "https://localhost:8080/",
          "height": 472
        },
        "id": "su1AV8JUY5VL",
        "outputId": "49afe46e-127c-4735-e5f6-7b357c9b37a8"
      },
      "execution_count": 87,
      "outputs": [
        {
          "output_type": "display_data",
          "data": {
            "text/plain": [
              "<Figure size 640x480 with 1 Axes>"
            ],
            "image/png": "[encoded data removed]"
          },
          "metadata": {}
        }
      ]
    },
    {
      "cell_type": "markdown",
      "source": [
        "**ВИСНОВОК:** Після того, як дані були відкориговані - у списках вилучені викиди графік став більш чітким. Ми бачимо від'ємну кореляцію, коли при збільшені одного показника інший зменшується, але є і інші випадки."
      ],
      "metadata": {
        "id": "rpKSyQ0aZI7r"
      }
    }
  ]
}